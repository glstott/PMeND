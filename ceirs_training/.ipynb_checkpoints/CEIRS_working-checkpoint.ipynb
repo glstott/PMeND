{
 "cells": [
  {
   "cell_type": "code",
   "execution_count": 1,
   "metadata": {},
   "outputs": [
    {
     "name": "stdout",
     "output_type": "stream",
     "text": [
      "Requirement already satisfied: scikit-learn in /home/gs69042/.local/lib/python3.7/site-packages (1.0.1)\n",
      "Requirement already satisfied: joblib>=0.11 in /apps/eb/Anaconda3/2020.02/lib/python3.7/site-packages (from scikit-learn) (0.14.1)\n",
      "Requirement already satisfied: numpy>=1.14.6 in /apps/eb/Anaconda3/2020.02/lib/python3.7/site-packages (from scikit-learn) (1.18.1)\n",
      "Requirement already satisfied: threadpoolctl>=2.0.0 in /home/gs69042/.local/lib/python3.7/site-packages (from scikit-learn) (3.0.0)\n",
      "Requirement already satisfied: scipy>=1.1.0 in /apps/eb/Anaconda3/2020.02/lib/python3.7/site-packages (from scikit-learn) (1.4.1)\n"
     ]
    }
   ],
   "source": [
    "!pip install -U scikit-learn --user"
   ]
  },
  {
   "cell_type": "code",
   "execution_count": 2,
   "metadata": {},
   "outputs": [],
   "source": [
    "import pandas as pd\n",
    "from Bio import SeqIO\n",
    "import sklearn\n",
    "import random\n",
    "\n",
    "data_folder = '/home/gs69042/CEIRS-Training-Taiwan-2019/CIERStraining-Asia2017HA/Data/'"
   ]
  },
  {
   "cell_type": "code",
   "execution_count": 3,
   "metadata": {},
   "outputs": [
    {
     "data": {
      "text/plain": [
       "'1.0.1'"
      ]
     },
     "execution_count": 3,
     "metadata": {},
     "output_type": "execute_result"
    }
   ],
   "source": [
    "sklearn.__version__"
   ]
  },
  {
   "cell_type": "code",
   "execution_count": 4,
   "metadata": {},
   "outputs": [
    {
     "name": "stdout",
     "output_type": "stream",
     "text": [
      "2006\n",
      "2256\n",
      "2006\n",
      "2256\n",
      "seq    65\n",
      "dtype: int64\n"
     ]
    },
    {
     "data": {
      "text/html": [
       "<div>\n",
       "<style scoped>\n",
       "    .dataframe tbody tr th:only-of-type {\n",
       "        vertical-align: middle;\n",
       "    }\n",
       "\n",
       "    .dataframe tbody tr th {\n",
       "        vertical-align: top;\n",
       "    }\n",
       "\n",
       "    .dataframe thead th {\n",
       "        text-align: right;\n",
       "    }\n",
       "</style>\n",
       "<table border=\"1\" class=\"dataframe\">\n",
       "  <thead>\n",
       "    <tr style=\"text-align: right;\">\n",
       "      <th></th>\n",
       "      <th>Isolate ID</th>\n",
       "      <th>Isolate name</th>\n",
       "      <th>Location</th>\n",
       "      <th>Collection date</th>\n",
       "      <th>Segment</th>\n",
       "      <th>Segment number</th>\n",
       "      <th>Type</th>\n",
       "      <th>Lineage</th>\n",
       "      <th>Passage details/history</th>\n",
       "      <th>Submitter</th>\n",
       "      <th>Sample ID by sample provider</th>\n",
       "      <th>Sample ID by submitting lab</th>\n",
       "      <th>Last modified</th>\n",
       "      <th>Originating lab</th>\n",
       "      <th>Submitting lab</th>\n",
       "      <th>Identifier</th>\n",
       "      <th>DNA Accession no.</th>\n",
       "      <th>DNA INSDC</th>\n",
       "    </tr>\n",
       "  </thead>\n",
       "  <tbody>\n",
       "    <tr>\n",
       "      <th>0</th>\n",
       "      <td>EPI_ISL_299761</td>\n",
       "      <td>A/AbuDhabi/001/2017</td>\n",
       "      <td>AbuDhabi</td>\n",
       "      <td>10/15/17</td>\n",
       "      <td>HA</td>\n",
       "      <td>4</td>\n",
       "      <td>A/H3N2</td>\n",
       "      <td>NaN</td>\n",
       "      <td>X</td>\n",
       "      <td>GartenKondorRebecca</td>\n",
       "      <td>A/ABUDHABI/001/2017</td>\n",
       "      <td>3000682775</td>\n",
       "      <td>2/20/18</td>\n",
       "      <td>ShaikhKhalifaMedicalCity</td>\n",
       "      <td>CentersforDiseaseControlandPrevention</td>\n",
       "      <td>3000682775_N8K8Y4RH_v1_4</td>\n",
       "      <td>1179733</td>\n",
       "      <td>NaN</td>\n",
       "    </tr>\n",
       "    <tr>\n",
       "      <th>1</th>\n",
       "      <td>EPI_ISL_299762</td>\n",
       "      <td>A/AbuDhabi/0013/2017</td>\n",
       "      <td>AbuDhabi</td>\n",
       "      <td>10/15/17</td>\n",
       "      <td>HA</td>\n",
       "      <td>4</td>\n",
       "      <td>A/H3N2</td>\n",
       "      <td>NaN</td>\n",
       "      <td>Original</td>\n",
       "      <td>GartenKondorRebecca</td>\n",
       "      <td>A/ABUDHABI/0013/2017ORIGINAL</td>\n",
       "      <td>3000682748</td>\n",
       "      <td>2/20/18</td>\n",
       "      <td>ShaikhKhalifaMedicalCity</td>\n",
       "      <td>CentersforDiseaseControlandPrevention</td>\n",
       "      <td>3000682748_N8K8Y4NQ_v1_4</td>\n",
       "      <td>1179741</td>\n",
       "      <td>NaN</td>\n",
       "    </tr>\n",
       "    <tr>\n",
       "      <th>2</th>\n",
       "      <td>EPI_ISL_299763</td>\n",
       "      <td>A/AbuDhabi/002/2017</td>\n",
       "      <td>AbuDhabi</td>\n",
       "      <td>10/15/17</td>\n",
       "      <td>HA</td>\n",
       "      <td>4</td>\n",
       "      <td>A/H3N2</td>\n",
       "      <td>NaN</td>\n",
       "      <td>Original</td>\n",
       "      <td>GartenKondorRebecca</td>\n",
       "      <td>A/ABUDHABI/002/2017ORIGINAL</td>\n",
       "      <td>3000682739</td>\n",
       "      <td>2/20/18</td>\n",
       "      <td>ShaikhKhalifaMedicalCity</td>\n",
       "      <td>CentersforDiseaseControlandPrevention</td>\n",
       "      <td>3000682739_N8K8Y4MH_v1_4</td>\n",
       "      <td>1179749</td>\n",
       "      <td>NaN</td>\n",
       "    </tr>\n",
       "    <tr>\n",
       "      <th>3</th>\n",
       "      <td>EPI_ISL_299769</td>\n",
       "      <td>A/AbuDhabi/007/2017</td>\n",
       "      <td>AbuDhabi</td>\n",
       "      <td>10/22/17</td>\n",
       "      <td>HA</td>\n",
       "      <td>4</td>\n",
       "      <td>A/H3N2</td>\n",
       "      <td>NaN</td>\n",
       "      <td>Original</td>\n",
       "      <td>GartenKondorRebecca</td>\n",
       "      <td>A/ABUDHABI/007/2017ORIGINAL</td>\n",
       "      <td>3000682744</td>\n",
       "      <td>2/20/18</td>\n",
       "      <td>ShaikhKhalifaMedicalCity</td>\n",
       "      <td>CentersforDiseaseControlandPrevention</td>\n",
       "      <td>3000682744_N8K8Y4N6_v1_4</td>\n",
       "      <td>1179797</td>\n",
       "      <td>NaN</td>\n",
       "    </tr>\n",
       "    <tr>\n",
       "      <th>4</th>\n",
       "      <td>EPI_ISL_299770</td>\n",
       "      <td>A/AbuDhabi/008/2017</td>\n",
       "      <td>AbuDhabi</td>\n",
       "      <td>10/22/17</td>\n",
       "      <td>HA</td>\n",
       "      <td>4</td>\n",
       "      <td>A/H3N2</td>\n",
       "      <td>NaN</td>\n",
       "      <td>Original</td>\n",
       "      <td>GartenKondorRebecca</td>\n",
       "      <td>A/ABUDHABI/008/2017ORIGINAL</td>\n",
       "      <td>3000682745</td>\n",
       "      <td>2/20/18</td>\n",
       "      <td>ShaikhKhalifaMedicalCity</td>\n",
       "      <td>CentersforDiseaseControlandPrevention</td>\n",
       "      <td>3000682745_N8K8Y4NB_v1_4</td>\n",
       "      <td>1179805</td>\n",
       "      <td>NaN</td>\n",
       "    </tr>\n",
       "  </tbody>\n",
       "</table>\n",
       "</div>"
      ],
      "text/plain": [
       "      Isolate ID          Isolate name   Location  Collection date   \\\n",
       "0  EPI_ISL_299761   A/AbuDhabi/001/2017  AbuDhabi          10/15/17   \n",
       "1  EPI_ISL_299762  A/AbuDhabi/0013/2017  AbuDhabi          10/15/17   \n",
       "2  EPI_ISL_299763   A/AbuDhabi/002/2017  AbuDhabi          10/15/17   \n",
       "3  EPI_ISL_299769   A/AbuDhabi/007/2017  AbuDhabi          10/22/17   \n",
       "4  EPI_ISL_299770   A/AbuDhabi/008/2017  AbuDhabi          10/22/17   \n",
       "\n",
       "   Segment     Segment number    Type    Lineage   Passage details/history   \\\n",
       "0         HA                 4  A/H3N2        NaN                         X   \n",
       "1         HA                 4  A/H3N2        NaN                  Original   \n",
       "2         HA                 4  A/H3N2        NaN                  Original   \n",
       "3         HA                 4  A/H3N2        NaN                  Original   \n",
       "4         HA                 4  A/H3N2        NaN                  Original   \n",
       "\n",
       "            Submitter   Sample ID by sample provider   \\\n",
       "0  GartenKondorRebecca            A/ABUDHABI/001/2017   \n",
       "1  GartenKondorRebecca   A/ABUDHABI/0013/2017ORIGINAL   \n",
       "2  GartenKondorRebecca    A/ABUDHABI/002/2017ORIGINAL   \n",
       "3  GartenKondorRebecca    A/ABUDHABI/007/2017ORIGINAL   \n",
       "4  GartenKondorRebecca    A/ABUDHABI/008/2017ORIGINAL   \n",
       "\n",
       "   Sample ID by submitting lab   Last modified           Originating lab   \\\n",
       "0                    3000682775         2/20/18  ShaikhKhalifaMedicalCity   \n",
       "1                    3000682748         2/20/18  ShaikhKhalifaMedicalCity   \n",
       "2                    3000682739         2/20/18  ShaikhKhalifaMedicalCity   \n",
       "3                    3000682744         2/20/18  ShaikhKhalifaMedicalCity   \n",
       "4                    3000682745         2/20/18  ShaikhKhalifaMedicalCity   \n",
       "\n",
       "                         Submitting lab                Identifier   \\\n",
       "0  CentersforDiseaseControlandPrevention  3000682775_N8K8Y4RH_v1_4   \n",
       "1  CentersforDiseaseControlandPrevention  3000682748_N8K8Y4NQ_v1_4   \n",
       "2  CentersforDiseaseControlandPrevention  3000682739_N8K8Y4MH_v1_4   \n",
       "3  CentersforDiseaseControlandPrevention  3000682744_N8K8Y4N6_v1_4   \n",
       "4  CentersforDiseaseControlandPrevention  3000682745_N8K8Y4NB_v1_4   \n",
       "\n",
       "    DNA Accession no.   DNA INSDC  \n",
       "0              1179733        NaN  \n",
       "1              1179741        NaN  \n",
       "2              1179749        NaN  \n",
       "3              1179797        NaN  \n",
       "4              1179805        NaN  "
      ]
     },
     "execution_count": 4,
     "metadata": {},
     "output_type": "execute_result"
    }
   ],
   "source": [
    "# Read CSV and Fasta files into dataframes.\n",
    "seq_df = pd.DataFrame(columns=['id', 'seq'])\n",
    "with open(data_folder + \"Asia_2017_HA.fasta\") as fasta_file:  # Will close handle cleanly\n",
    "    for seq_record in SeqIO.parse(fasta_file, 'fasta'):  # (generator)\n",
    "        seq_df = seq_df.append({'id':seq_record.id, 'seq': str(seq_record.seq)}, ignore_index=True)\n",
    "\n",
    "metadata_df = pd.read_csv(data_folder + 'Asia_2017_HA_RawData.csv')\n",
    "\n",
    "# NOTE: There are 250 duplicates in this dataset. The id used in the fasta file not sufficiently unique. Needed isolate id as well I suspect.\n",
    "print(metadata_df[' Isolate name '].nunique())\n",
    "print(len(metadata_df))\n",
    "print(seq_df.id.nunique())\n",
    "print(len(seq_df))\n",
    "print((seq_df.groupby('id').nunique() > 1).sum())\n",
    "metadata_df.head()"
   ]
  },
  {
   "cell_type": "code",
   "execution_count": 5,
   "metadata": {},
   "outputs": [],
   "source": [
    "# Generating composite key to match the two tables. Then matching. Outer join to validate that there are no nulls.\n",
    "metadata_df['concatid'] = metadata_df[' Isolate name '] + \"_\" + metadata_df.Location + \"_\" + \\\n",
    "                            metadata_df[' Collection date '].apply(lambda x: f'{x.split(\"/\")[1] if len(x.split(\"/\")[1]) > 1 else \"0\" + x.split(\"/\")[1]}/{x.split(\"/\")[0] if len(x.split(\"/\")[0]) > 1 else \"0\" + x.split(\"/\")[0]}/20{x.split(\"/\")[2]}')\n",
    "df = metadata_df.merge(seq_df, left_on='concatid', right_on='id', how='outer').drop_duplicates(subset='id')"
   ]
  },
  {
   "cell_type": "code",
   "execution_count": 6,
   "metadata": {
    "scrolled": true
   },
   "outputs": [
    {
     "data": {
      "text/plain": [
       "46"
      ]
     },
     "execution_count": 6,
     "metadata": {},
     "output_type": "execute_result"
    }
   ],
   "source": [
    "df_asia = df[~df.Location.isin(['Kansas', 'Russia', 'Switzerland'])]\n",
    "random.seed(12)\n",
    "taiwan_samples = random.sample(list(df_asia[df_asia.Location == 'Taiwan'].id), int(0.3*len(df_asia[df_asia.Location == 'Taiwan'].id)))\n",
    "len(taiwan_samples)"
   ]
  },
  {
   "cell_type": "code",
   "execution_count": 7,
   "metadata": {},
   "outputs": [
    {
     "data": {
      "text/plain": [
       "94"
      ]
     },
     "execution_count": 7,
     "metadata": {},
     "output_type": "execute_result"
    }
   ],
   "source": [
    "250-len(df_asia[df_asia.Location == 'Taiwan'].id)"
   ]
  },
  {
   "cell_type": "code",
   "execution_count": 8,
   "metadata": {
    "scrolled": true
   },
   "outputs": [
    {
     "data": {
      "text/plain": [
       "204"
      ]
     },
     "execution_count": 8,
     "metadata": {},
     "output_type": "execute_result"
    }
   ],
   "source": [
    "other_samples = random.sample(list(df_asia[df_asia.Location != 'Taiwan'].id), 250 - len(taiwan_samples))\n",
    "len(other_samples)"
   ]
  },
  {
   "cell_type": "code",
   "execution_count": 9,
   "metadata": {},
   "outputs": [
    {
     "name": "stderr",
     "output_type": "stream",
     "text": [
      "/apps/eb/Anaconda3/2020.02/lib/python3.7/site-packages/ipykernel_launcher.py:4: SettingWithCopyWarning: \n",
      "A value is trying to be set on a copy of a slice from a DataFrame.\n",
      "Try using .loc[row_indexer,col_indexer] = value instead\n",
      "\n",
      "See the caveats in the documentation: https://pandas.pydata.org/pandas-docs/stable/user_guide/indexing.html#returning-a-view-versus-a-copy\n",
      "  after removing the cwd from sys.path.\n"
     ]
    },
    {
     "data": {
      "text/plain": [
       "array(['EPI_ISL_299775|A/AbuDhabi/015/2017|AbuDhabi|1179844|10/25/17',\n",
       "       'EPI_ISL_299805|A/AbuDhabi/076/2017|AbuDhabi|1180084|11/6/17',\n",
       "       'EPI_ISL_299812|A/AbuDhabi/106/2017|AbuDhabi|1180140|11/7/17',\n",
       "       'EPI_ISL_307867|A/AbuDhabi/221/2017|AbuDhabi|1221443|12/21/17',\n",
       "       'EPI_ISL_291733|A/Afghanistan/0438/2017|Afghanistan|1142486|11/9/17'],\n",
       "      dtype=object)"
      ]
     },
     "execution_count": 9,
     "metadata": {},
     "output_type": "execute_result"
    }
   ],
   "source": [
    "filtered_df = df[df.id.isin(other_samples + taiwan_samples)]\n",
    "filtered_df['beast_id'] = filtered_df['Isolate ID '] + '|' + filtered_df[' Isolate name '] + '|' + \\\n",
    "            filtered_df.Location + '|' + filtered_df[' DNA Accession no. '].astype(str) + '|' + \\\n",
    "            filtered_df[' Collection date ']\n",
    "filtered_df['beast_id'].head().values"
   ]
  },
  {
   "cell_type": "code",
   "execution_count": null,
   "metadata": {},
   "outputs": [],
   "source": [
    "f = open('Asia2017H3N2_subset.fasta', 'w')\n",
    "for i, row in filtered_df.iterrows():\n",
    "    f.write('>' + row.beast_id + '\\n' + row.seq + '\\n')\n",
    "f.close()"
   ]
  },
  {
   "cell_type": "code",
   "execution_count": 16,
   "metadata": {},
   "outputs": [
    {
     "name": "stdout",
     "output_type": "stream",
     "text": [
      "250\n"
     ]
    }
   ],
   "source": [
    "# Fasta files into dataframe.\n",
    "seq_df = pd.DataFrame(columns=['id', 'seq'])\n",
    "with open(\"/home/gs69042/CEIRS-Training-Taiwan-2019/CIERStraining-Asia2017HA/RAxML/Asia2017H3N2_subset.mafftout.final.fasta\") as fasta_file:  # Will close handle cleanly\n",
    "    for seq_record in SeqIO.parse(fasta_file, 'fasta'):  # (generator)\n",
    "        seq_df = seq_df.append({'id':seq_record.id, 'seq': str(seq_record.seq)}, ignore_index=True)\n",
    "\n",
    "print(seq_df.id.nunique())\n",
    "seq_df = seq_df[~seq_df.id.isin([\"EPI_ISL_294313|A/Taiwan/1417/2017|Taiwan|1155205|10/15/17\", \n",
    "                                        \"EPI_ISL_278603|A/Guangdong-Chengqu/1649/2017|China|1062586|7/11/17\", \n",
    "                                        \"EPI_ISL_304337|A/Taiwan/1408/2017|Taiwan|1202435|10/17/17\", \n",
    "                                        \"EPI_ISL_299670|A/Cambodia/B1116403/2017|Cambodia|1179512|11/15/17\", \n",
    "                                        \"EPI_ISL_278650|A/Fujian-Fengze/1491/2017|China|1062727|6/14/17\", \n",
    "                                        \"EPI_ISL_294319|A/Taiwan/1433/2017|Taiwan|1155223|10/18/17\", \n",
    "                                        \"EPI_ISL_300806|A/Cambodia/909/2017|Cambodia|1185494|10/5/17\", \n",
    "                                        \"EPI_ISL_365308|A/India/1738050/2017|India|1493360|9/2/17\", \n",
    "                                        \"EPI_ISL_303909|A/Ankara/1050/2017|Turkey|1201146|12/1/17\", \n",
    "                                        \"EPI_ISL_292542|A/Kanagawa/ZC1617/2017|Japan|1146085|2/23/17\"])]"
   ]
  },
  {
   "cell_type": "code",
   "execution_count": 17,
   "metadata": {},
   "outputs": [
    {
     "data": {
      "text/plain": [
       "240"
      ]
     },
     "execution_count": 17,
     "metadata": {},
     "output_type": "execute_result"
    }
   ],
   "source": [
    "seq_df.id.nunique()"
   ]
  },
  {
   "cell_type": "code",
   "execution_count": 20,
   "metadata": {},
   "outputs": [],
   "source": [
    "f = open('raxml/Asia2017H3N2_subset.mafftout.final.outcut.fasta', 'w')\n",
    "for i, row in seq_df.iterrows():\n",
    "    f.write('>' + row.id + '\\n' + row.seq + '\\n')\n",
    "f.close()"
   ]
  },
  {
   "cell_type": "code",
   "execution_count": null,
   "metadata": {},
   "outputs": [],
   "source": []
  }
 ],
 "metadata": {
  "kernelspec": {
   "display_name": "Python 3",
   "language": "python",
   "name": "python3"
  },
  "language_info": {
   "codemirror_mode": {
    "name": "ipython",
    "version": 3
   },
   "file_extension": ".py",
   "mimetype": "text/x-python",
   "name": "python",
   "nbconvert_exporter": "python",
   "pygments_lexer": "ipython3",
   "version": "3.7.6"
  }
 },
 "nbformat": 4,
 "nbformat_minor": 4
}
