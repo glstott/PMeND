{
 "cells": [
  {
   "cell_type": "code",
   "execution_count": 1,
   "metadata": {},
   "outputs": [
    {
     "name": "stdout",
     "output_type": "stream",
     "text": [
      "Requirement already satisfied: phylovega in c:\\users\\stott\\appdata\\roaming\\python\\python38\\site-packages (0.3)\n",
      "Requirement already satisfied: vega in c:\\users\\stott\\appdata\\roaming\\python\\python38\\site-packages (from phylovega) (3.5.0)\n",
      "Requirement already satisfied: phylopandas in c:\\users\\stott\\appdata\\roaming\\python\\python38\\site-packages (from phylovega) (0.8.0)\n",
      "Requirement already satisfied: pandas<2.0.0,>=1.0.0 in c:\\users\\stott\\anaconda3\\lib\\site-packages (from vega->phylovega) (1.1.3)\n",
      "Requirement already satisfied: jupyter<2.0.0,>=1.0.0 in c:\\users\\stott\\anaconda3\\lib\\site-packages (from vega->phylovega) (1.0.0)\n",
      "Requirement already satisfied: pandas-flavor>=0.1.0 in c:\\users\\stott\\appdata\\roaming\\python\\python38\\site-packages (from phylopandas->phylovega) (0.2.0)\n",
      "Requirement already satisfied: dendropy in c:\\users\\stott\\appdata\\roaming\\python\\python38\\site-packages (from phylopandas->phylovega) (4.5.2)\n",
      "Requirement already satisfied: biopython in c:\\users\\stott\\appdata\\roaming\\python\\python38\\site-packages (from phylopandas->phylovega) (1.77)\n",
      "Requirement already satisfied: numpy>=1.15.4 in c:\\users\\stott\\anaconda3\\lib\\site-packages (from pandas<2.0.0,>=1.0.0->vega->phylovega) (1.19.2)\n",
      "Requirement already satisfied: pytz>=2017.2 in c:\\users\\stott\\anaconda3\\lib\\site-packages (from pandas<2.0.0,>=1.0.0->vega->phylovega) (2020.1)\n",
      "Requirement already satisfied: python-dateutil>=2.7.3 in c:\\users\\stott\\anaconda3\\lib\\site-packages (from pandas<2.0.0,>=1.0.0->vega->phylovega) (2.8.1)\n",
      "Requirement already satisfied: notebook in c:\\users\\stott\\anaconda3\\lib\\site-packages (from jupyter<2.0.0,>=1.0.0->vega->phylovega) (6.1.4)\n",
      "Requirement already satisfied: qtconsole in c:\\users\\stott\\anaconda3\\lib\\site-packages (from jupyter<2.0.0,>=1.0.0->vega->phylovega) (4.7.7)\n",
      "Requirement already satisfied: ipywidgets in c:\\users\\stott\\anaconda3\\lib\\site-packages (from jupyter<2.0.0,>=1.0.0->vega->phylovega) (7.5.1)\n",
      "Requirement already satisfied: nbconvert in c:\\users\\stott\\anaconda3\\lib\\site-packages (from jupyter<2.0.0,>=1.0.0->vega->phylovega) (6.0.7)\n",
      "Requirement already satisfied: jupyter-console in c:\\users\\stott\\anaconda3\\lib\\site-packages (from jupyter<2.0.0,>=1.0.0->vega->phylovega) (6.2.0)\n",
      "Requirement already satisfied: ipykernel in c:\\users\\stott\\anaconda3\\lib\\site-packages (from jupyter<2.0.0,>=1.0.0->vega->phylovega) (5.3.4)\n",
      "Requirement already satisfied: xarray in c:\\users\\stott\\appdata\\roaming\\python\\python38\\site-packages (from pandas-flavor>=0.1.0->phylopandas->phylovega) (0.20.1)\n",
      "Requirement already satisfied: setuptools in c:\\users\\stott\\anaconda3\\lib\\site-packages (from dendropy->phylopandas->phylovega) (50.3.1.post20201107)\n",
      "Requirement already satisfied: six>=1.5 in c:\\users\\stott\\anaconda3\\lib\\site-packages (from python-dateutil>=2.7.3->pandas<2.0.0,>=1.0.0->vega->phylovega) (1.15.0)\n",
      "Requirement already satisfied: nbformat in c:\\users\\stott\\anaconda3\\lib\\site-packages (from notebook->jupyter<2.0.0,>=1.0.0->vega->phylovega) (5.0.8)\n",
      "Requirement already satisfied: Send2Trash in c:\\users\\stott\\anaconda3\\lib\\site-packages (from notebook->jupyter<2.0.0,>=1.0.0->vega->phylovega) (1.5.0)\n",
      "Requirement already satisfied: traitlets>=4.2.1 in c:\\users\\stott\\anaconda3\\lib\\site-packages (from notebook->jupyter<2.0.0,>=1.0.0->vega->phylovega) (5.0.5)\n",
      "Requirement already satisfied: jupyter-client>=5.3.4 in c:\\users\\stott\\anaconda3\\lib\\site-packages (from notebook->jupyter<2.0.0,>=1.0.0->vega->phylovega) (6.1.7)\n",
      "Requirement already satisfied: argon2-cffi in c:\\users\\stott\\anaconda3\\lib\\site-packages (from notebook->jupyter<2.0.0,>=1.0.0->vega->phylovega) (20.1.0)\n",
      "Requirement already satisfied: tornado>=5.0 in c:\\users\\stott\\anaconda3\\lib\\site-packages (from notebook->jupyter<2.0.0,>=1.0.0->vega->phylovega) (6.0.4)\n",
      "Requirement already satisfied: jinja2 in c:\\users\\stott\\anaconda3\\lib\\site-packages (from notebook->jupyter<2.0.0,>=1.0.0->vega->phylovega) (2.11.2)\n",
      "Requirement already satisfied: ipython-genutils in c:\\users\\stott\\anaconda3\\lib\\site-packages (from notebook->jupyter<2.0.0,>=1.0.0->vega->phylovega) (0.2.0)\n",
      "Requirement already satisfied: jupyter-core>=4.6.1 in c:\\users\\stott\\anaconda3\\lib\\site-packages (from notebook->jupyter<2.0.0,>=1.0.0->vega->phylovega) (4.6.3)\n",
      "Requirement already satisfied: terminado>=0.8.3 in c:\\users\\stott\\anaconda3\\lib\\site-packages (from notebook->jupyter<2.0.0,>=1.0.0->vega->phylovega) (0.9.1)\n",
      "Requirement already satisfied: pyzmq>=17 in c:\\users\\stott\\anaconda3\\lib\\site-packages (from notebook->jupyter<2.0.0,>=1.0.0->vega->phylovega) (19.0.2)\n",
      "Requirement already satisfied: prometheus-client in c:\\users\\stott\\anaconda3\\lib\\site-packages (from notebook->jupyter<2.0.0,>=1.0.0->vega->phylovega) (0.8.0)\n",
      "Requirement already satisfied: pygments in c:\\users\\stott\\anaconda3\\lib\\site-packages (from qtconsole->jupyter<2.0.0,>=1.0.0->vega->phylovega) (2.7.2)\n",
      "Requirement already satisfied: qtpy in c:\\users\\stott\\anaconda3\\lib\\site-packages (from qtconsole->jupyter<2.0.0,>=1.0.0->vega->phylovega) (1.9.0)\n",
      "Requirement already satisfied: widgetsnbextension~=3.5.0 in c:\\users\\stott\\anaconda3\\lib\\site-packages (from ipywidgets->jupyter<2.0.0,>=1.0.0->vega->phylovega) (3.5.1)\n",
      "Requirement already satisfied: ipython>=4.0.0; python_version >= \"3.3\" in c:\\users\\stott\\anaconda3\\lib\\site-packages (from ipywidgets->jupyter<2.0.0,>=1.0.0->vega->phylovega) (7.19.0)\n",
      "Requirement already satisfied: mistune<2,>=0.8.1 in c:\\users\\stott\\anaconda3\\lib\\site-packages (from nbconvert->jupyter<2.0.0,>=1.0.0->vega->phylovega) (0.8.4)\n",
      "Requirement already satisfied: jupyterlab-pygments in c:\\users\\stott\\anaconda3\\lib\\site-packages (from nbconvert->jupyter<2.0.0,>=1.0.0->vega->phylovega) (0.1.2)\n",
      "Requirement already satisfied: nbclient<0.6.0,>=0.5.0 in c:\\users\\stott\\anaconda3\\lib\\site-packages (from nbconvert->jupyter<2.0.0,>=1.0.0->vega->phylovega) (0.5.1)\n",
      "Requirement already satisfied: bleach in c:\\users\\stott\\anaconda3\\lib\\site-packages (from nbconvert->jupyter<2.0.0,>=1.0.0->vega->phylovega) (3.2.1)\n",
      "Requirement already satisfied: entrypoints>=0.2.2 in c:\\users\\stott\\anaconda3\\lib\\site-packages (from nbconvert->jupyter<2.0.0,>=1.0.0->vega->phylovega) (0.3)\n",
      "Requirement already satisfied: defusedxml in c:\\users\\stott\\anaconda3\\lib\\site-packages (from nbconvert->jupyter<2.0.0,>=1.0.0->vega->phylovega) (0.6.0)\n",
      "Requirement already satisfied: pandocfilters>=1.4.1 in c:\\users\\stott\\anaconda3\\lib\\site-packages (from nbconvert->jupyter<2.0.0,>=1.0.0->vega->phylovega) (1.4.3)\n",
      "Requirement already satisfied: testpath in c:\\users\\stott\\anaconda3\\lib\\site-packages (from nbconvert->jupyter<2.0.0,>=1.0.0->vega->phylovega) (0.4.4)\n",
      "Requirement already satisfied: prompt-toolkit!=3.0.0,!=3.0.1,<3.1.0,>=2.0.0 in c:\\users\\stott\\anaconda3\\lib\\site-packages (from jupyter-console->jupyter<2.0.0,>=1.0.0->vega->phylovega) (3.0.8)\n",
      "Requirement already satisfied: jsonschema!=2.5.0,>=2.4 in c:\\users\\stott\\anaconda3\\lib\\site-packages (from nbformat->notebook->jupyter<2.0.0,>=1.0.0->vega->phylovega) (3.2.0)\n",
      "Requirement already satisfied: cffi>=1.0.0 in c:\\users\\stott\\anaconda3\\lib\\site-packages (from argon2-cffi->notebook->jupyter<2.0.0,>=1.0.0->vega->phylovega) (1.14.3)\n",
      "Requirement already satisfied: MarkupSafe>=0.23 in c:\\users\\stott\\anaconda3\\lib\\site-packages (from jinja2->notebook->jupyter<2.0.0,>=1.0.0->vega->phylovega) (1.1.1)\n",
      "Requirement already satisfied: pywin32>=1.0; sys_platform == \"win32\" in c:\\users\\stott\\anaconda3\\lib\\site-packages (from jupyter-core>=4.6.1->notebook->jupyter<2.0.0,>=1.0.0->vega->phylovega) (227)\n",
      "Requirement already satisfied: pywinpty>=0.5 in c:\\users\\stott\\anaconda3\\lib\\site-packages (from terminado>=0.8.3->notebook->jupyter<2.0.0,>=1.0.0->vega->phylovega) (0.5.7)\n",
      "Requirement already satisfied: pickleshare in c:\\users\\stott\\anaconda3\\lib\\site-packages (from ipython>=4.0.0; python_version >= \"3.3\"->ipywidgets->jupyter<2.0.0,>=1.0.0->vega->phylovega) (0.7.5)\n",
      "Requirement already satisfied: jedi>=0.10 in c:\\users\\stott\\anaconda3\\lib\\site-packages (from ipython>=4.0.0; python_version >= \"3.3\"->ipywidgets->jupyter<2.0.0,>=1.0.0->vega->phylovega) (0.17.1)\n",
      "Requirement already satisfied: decorator in c:\\users\\stott\\anaconda3\\lib\\site-packages (from ipython>=4.0.0; python_version >= \"3.3\"->ipywidgets->jupyter<2.0.0,>=1.0.0->vega->phylovega) (4.4.2)\n",
      "Requirement already satisfied: colorama; sys_platform == \"win32\" in c:\\users\\stott\\anaconda3\\lib\\site-packages (from ipython>=4.0.0; python_version >= \"3.3\"->ipywidgets->jupyter<2.0.0,>=1.0.0->vega->phylovega) (0.4.4)\n",
      "Requirement already satisfied: backcall in c:\\users\\stott\\anaconda3\\lib\\site-packages (from ipython>=4.0.0; python_version >= \"3.3\"->ipywidgets->jupyter<2.0.0,>=1.0.0->vega->phylovega) (0.2.0)\n",
      "Requirement already satisfied: async-generator in c:\\users\\stott\\anaconda3\\lib\\site-packages (from nbclient<0.6.0,>=0.5.0->nbconvert->jupyter<2.0.0,>=1.0.0->vega->phylovega) (1.10)\n",
      "Requirement already satisfied: nest-asyncio in c:\\users\\stott\\anaconda3\\lib\\site-packages (from nbclient<0.6.0,>=0.5.0->nbconvert->jupyter<2.0.0,>=1.0.0->vega->phylovega) (1.4.2)\n",
      "Requirement already satisfied: webencodings in c:\\users\\stott\\anaconda3\\lib\\site-packages (from bleach->nbconvert->jupyter<2.0.0,>=1.0.0->vega->phylovega) (0.5.1)\n",
      "Requirement already satisfied: packaging in c:\\users\\stott\\anaconda3\\lib\\site-packages (from bleach->nbconvert->jupyter<2.0.0,>=1.0.0->vega->phylovega) (20.4)\n",
      "Requirement already satisfied: wcwidth in c:\\users\\stott\\anaconda3\\lib\\site-packages (from prompt-toolkit!=3.0.0,!=3.0.1,<3.1.0,>=2.0.0->jupyter-console->jupyter<2.0.0,>=1.0.0->vega->phylovega) (0.2.5)\n",
      "Requirement already satisfied: attrs>=17.4.0 in c:\\users\\stott\\anaconda3\\lib\\site-packages (from jsonschema!=2.5.0,>=2.4->nbformat->notebook->jupyter<2.0.0,>=1.0.0->vega->phylovega) (20.3.0)\n",
      "Requirement already satisfied: pyrsistent>=0.14.0 in c:\\users\\stott\\anaconda3\\lib\\site-packages (from jsonschema!=2.5.0,>=2.4->nbformat->notebook->jupyter<2.0.0,>=1.0.0->vega->phylovega) (0.17.3)\n",
      "Requirement already satisfied: pycparser in c:\\users\\stott\\anaconda3\\lib\\site-packages (from cffi>=1.0.0->argon2-cffi->notebook->jupyter<2.0.0,>=1.0.0->vega->phylovega) (2.20)\n",
      "Requirement already satisfied: parso<0.8.0,>=0.7.0 in c:\\users\\stott\\anaconda3\\lib\\site-packages (from jedi>=0.10->ipython>=4.0.0; python_version >= \"3.3\"->ipywidgets->jupyter<2.0.0,>=1.0.0->vega->phylovega) (0.7.0)\n",
      "Requirement already satisfied: pyparsing>=2.0.2 in c:\\users\\stott\\anaconda3\\lib\\site-packages (from packaging->bleach->nbconvert->jupyter<2.0.0,>=1.0.0->vega->phylovega) (2.4.7)\n"
     ]
    }
   ],
   "source": [
    "!pip install phylovega --user"
   ]
  },
  {
   "cell_type": "code",
   "execution_count": 2,
   "metadata": {},
   "outputs": [
    {
     "name": "stdout",
     "output_type": "stream",
     "text": [
      "Requirement already satisfied: biopython==1.77 in c:\\users\\stott\\appdata\\roaming\\python\\python38\\site-packages (1.77)\n",
      "Requirement already satisfied: numpy in c:\\users\\stott\\anaconda3\\lib\\site-packages (from biopython==1.77) (1.19.2)\n"
     ]
    }
   ],
   "source": [
    "!pip install biopython==1.77 --user"
   ]
  },
  {
   "cell_type": "code",
   "execution_count": 3,
   "metadata": {},
   "outputs": [
    {
     "name": "stdout",
     "output_type": "stream",
     "text": [
      "Requirement already satisfied: jupyter-require in c:\\users\\stott\\appdata\\roaming\\python\\python38\\site-packages (0.6.1)\n",
      "Requirement already satisfied: ipykernel in c:\\users\\stott\\anaconda3\\lib\\site-packages (from jupyter-require) (5.3.4)\n",
      "Requirement already satisfied: csscompressor in c:\\users\\stott\\appdata\\roaming\\python\\python38\\site-packages (from jupyter-require) (0.9.5)\n",
      "Requirement already satisfied: jupyter-contrib-nbextensions in c:\\users\\stott\\appdata\\roaming\\python\\python38\\site-packages (from jupyter-require) (0.5.1)\n",
      "Requirement already satisfied: daiquiri in c:\\users\\stott\\appdata\\roaming\\python\\python38\\site-packages (from jupyter-require) (3.0.1)\n",
      "Requirement already satisfied: jupyter-nbutils in c:\\users\\stott\\appdata\\roaming\\python\\python38\\site-packages (from jupyter-require) (0.1.3)\n",
      "Requirement already satisfied: ipython in c:\\users\\stott\\anaconda3\\lib\\site-packages (from jupyter-require) (7.19.0)\n",
      "Requirement already satisfied: tornado>=4.2 in c:\\users\\stott\\anaconda3\\lib\\site-packages (from ipykernel->jupyter-require) (6.0.4)\n",
      "Requirement already satisfied: jupyter-client in c:\\users\\stott\\anaconda3\\lib\\site-packages (from ipykernel->jupyter-require) (6.1.7)\n",
      "Requirement already satisfied: traitlets>=4.1.0 in c:\\users\\stott\\anaconda3\\lib\\site-packages (from ipykernel->jupyter-require) (5.0.5)\n",
      "Requirement already satisfied: jupyter-contrib-core>=0.3.3 in c:\\users\\stott\\appdata\\roaming\\python\\python38\\site-packages (from jupyter-contrib-nbextensions->jupyter-require) (0.3.3)\n",
      "Requirement already satisfied: pyyaml in c:\\users\\stott\\anaconda3\\lib\\site-packages (from jupyter-contrib-nbextensions->jupyter-require) (5.3.1)\n",
      "Requirement already satisfied: nbconvert>=4.2 in c:\\users\\stott\\anaconda3\\lib\\site-packages (from jupyter-contrib-nbextensions->jupyter-require) (6.0.7)\n",
      "Requirement already satisfied: ipython-genutils in c:\\users\\stott\\anaconda3\\lib\\site-packages (from jupyter-contrib-nbextensions->jupyter-require) (0.2.0)\n",
      "Requirement already satisfied: lxml in c:\\users\\stott\\anaconda3\\lib\\site-packages (from jupyter-contrib-nbextensions->jupyter-require) (4.6.1)\n",
      "Requirement already satisfied: jupyter-nbextensions-configurator>=0.4.0 in c:\\users\\stott\\appdata\\roaming\\python\\python38\\site-packages (from jupyter-contrib-nbextensions->jupyter-require) (0.4.1)\n",
      "Requirement already satisfied: notebook>=4.0 in c:\\users\\stott\\anaconda3\\lib\\site-packages (from jupyter-contrib-nbextensions->jupyter-require) (6.1.4)\n",
      "Requirement already satisfied: jupyter-highlight-selected-word>=0.1.1 in c:\\users\\stott\\appdata\\roaming\\python\\python38\\site-packages (from jupyter-contrib-nbextensions->jupyter-require) (0.2.0)\n",
      "Requirement already satisfied: jupyter-latex-envs>=1.3.8 in c:\\users\\stott\\appdata\\roaming\\python\\python38\\site-packages (from jupyter-contrib-nbextensions->jupyter-require) (1.4.6)\n",
      "Requirement already satisfied: jupyter-core in c:\\users\\stott\\anaconda3\\lib\\site-packages (from jupyter-contrib-nbextensions->jupyter-require) (4.6.3)\n",
      "Requirement already satisfied: python-json-logger in c:\\users\\stott\\appdata\\roaming\\python\\python38\\site-packages (from daiquiri->jupyter-require) (2.0.2)\n",
      "Requirement already satisfied: pickleshare in c:\\users\\stott\\anaconda3\\lib\\site-packages (from ipython->jupyter-require) (0.7.5)\n",
      "Requirement already satisfied: prompt-toolkit!=3.0.0,!=3.0.1,<3.1.0,>=2.0.0 in c:\\users\\stott\\anaconda3\\lib\\site-packages (from ipython->jupyter-require) (3.0.8)\n",
      "Requirement already satisfied: setuptools>=18.5 in c:\\users\\stott\\anaconda3\\lib\\site-packages (from ipython->jupyter-require) (50.3.1.post20201107)\n",
      "Requirement already satisfied: decorator in c:\\users\\stott\\anaconda3\\lib\\site-packages (from ipython->jupyter-require) (4.4.2)\n",
      "Requirement already satisfied: backcall in c:\\users\\stott\\anaconda3\\lib\\site-packages (from ipython->jupyter-require) (0.2.0)\n",
      "Requirement already satisfied: pygments in c:\\users\\stott\\anaconda3\\lib\\site-packages (from ipython->jupyter-require) (2.7.2)\n",
      "Requirement already satisfied: jedi>=0.10 in c:\\users\\stott\\anaconda3\\lib\\site-packages (from ipython->jupyter-require) (0.17.1)\n",
      "Requirement already satisfied: colorama; sys_platform == \"win32\" in c:\\users\\stott\\anaconda3\\lib\\site-packages (from ipython->jupyter-require) (0.4.4)\n",
      "Requirement already satisfied: python-dateutil>=2.1 in c:\\users\\stott\\anaconda3\\lib\\site-packages (from jupyter-client->ipykernel->jupyter-require) (2.8.1)\n",
      "Requirement already satisfied: pyzmq>=13 in c:\\users\\stott\\anaconda3\\lib\\site-packages (from jupyter-client->ipykernel->jupyter-require) (19.0.2)\n",
      "Requirement already satisfied: defusedxml in c:\\users\\stott\\anaconda3\\lib\\site-packages (from nbconvert>=4.2->jupyter-contrib-nbextensions->jupyter-require) (0.6.0)\n",
      "Requirement already satisfied: jinja2>=2.4 in c:\\users\\stott\\anaconda3\\lib\\site-packages (from nbconvert>=4.2->jupyter-contrib-nbextensions->jupyter-require) (2.11.2)\n",
      "Requirement already satisfied: nbformat>=4.4 in c:\\users\\stott\\anaconda3\\lib\\site-packages (from nbconvert>=4.2->jupyter-contrib-nbextensions->jupyter-require) (5.0.8)\n",
      "Requirement already satisfied: mistune<2,>=0.8.1 in c:\\users\\stott\\anaconda3\\lib\\site-packages (from nbconvert>=4.2->jupyter-contrib-nbextensions->jupyter-require) (0.8.4)\n",
      "Requirement already satisfied: pandocfilters>=1.4.1 in c:\\users\\stott\\anaconda3\\lib\\site-packages (from nbconvert>=4.2->jupyter-contrib-nbextensions->jupyter-require) (1.4.3)\n",
      "Requirement already satisfied: entrypoints>=0.2.2 in c:\\users\\stott\\anaconda3\\lib\\site-packages (from nbconvert>=4.2->jupyter-contrib-nbextensions->jupyter-require) (0.3)\n",
      "Requirement already satisfied: bleach in c:\\users\\stott\\anaconda3\\lib\\site-packages (from nbconvert>=4.2->jupyter-contrib-nbextensions->jupyter-require) (3.2.1)\n",
      "Requirement already satisfied: testpath in c:\\users\\stott\\anaconda3\\lib\\site-packages (from nbconvert>=4.2->jupyter-contrib-nbextensions->jupyter-require) (0.4.4)\n",
      "Requirement already satisfied: nbclient<0.6.0,>=0.5.0 in c:\\users\\stott\\anaconda3\\lib\\site-packages (from nbconvert>=4.2->jupyter-contrib-nbextensions->jupyter-require) (0.5.1)\n",
      "Requirement already satisfied: jupyterlab-pygments in c:\\users\\stott\\anaconda3\\lib\\site-packages (from nbconvert>=4.2->jupyter-contrib-nbextensions->jupyter-require) (0.1.2)\n",
      "Requirement already satisfied: terminado>=0.8.3 in c:\\users\\stott\\anaconda3\\lib\\site-packages (from notebook>=4.0->jupyter-contrib-nbextensions->jupyter-require) (0.9.1)\n",
      "Requirement already satisfied: Send2Trash in c:\\users\\stott\\anaconda3\\lib\\site-packages (from notebook>=4.0->jupyter-contrib-nbextensions->jupyter-require) (1.5.0)\n",
      "Requirement already satisfied: argon2-cffi in c:\\users\\stott\\anaconda3\\lib\\site-packages (from notebook>=4.0->jupyter-contrib-nbextensions->jupyter-require) (20.1.0)\n",
      "Requirement already satisfied: prometheus-client in c:\\users\\stott\\anaconda3\\lib\\site-packages (from notebook>=4.0->jupyter-contrib-nbextensions->jupyter-require) (0.8.0)\n",
      "Requirement already satisfied: pywin32>=1.0; sys_platform == \"win32\" in c:\\users\\stott\\anaconda3\\lib\\site-packages (from jupyter-core->jupyter-contrib-nbextensions->jupyter-require) (227)\n",
      "Requirement already satisfied: wcwidth in c:\\users\\stott\\anaconda3\\lib\\site-packages (from prompt-toolkit!=3.0.0,!=3.0.1,<3.1.0,>=2.0.0->ipython->jupyter-require) (0.2.5)\n",
      "Requirement already satisfied: parso<0.8.0,>=0.7.0 in c:\\users\\stott\\anaconda3\\lib\\site-packages (from jedi>=0.10->ipython->jupyter-require) (0.7.0)\n",
      "Requirement already satisfied: six>=1.5 in c:\\users\\stott\\anaconda3\\lib\\site-packages (from python-dateutil>=2.1->jupyter-client->ipykernel->jupyter-require) (1.15.0)\n",
      "Requirement already satisfied: MarkupSafe>=0.23 in c:\\users\\stott\\anaconda3\\lib\\site-packages (from jinja2>=2.4->nbconvert>=4.2->jupyter-contrib-nbextensions->jupyter-require) (1.1.1)\n",
      "Requirement already satisfied: jsonschema!=2.5.0,>=2.4 in c:\\users\\stott\\anaconda3\\lib\\site-packages (from nbformat>=4.4->nbconvert>=4.2->jupyter-contrib-nbextensions->jupyter-require) (3.2.0)\n",
      "Requirement already satisfied: packaging in c:\\users\\stott\\anaconda3\\lib\\site-packages (from bleach->nbconvert>=4.2->jupyter-contrib-nbextensions->jupyter-require) (20.4)\n",
      "Requirement already satisfied: webencodings in c:\\users\\stott\\anaconda3\\lib\\site-packages (from bleach->nbconvert>=4.2->jupyter-contrib-nbextensions->jupyter-require) (0.5.1)\n",
      "Requirement already satisfied: nest-asyncio in c:\\users\\stott\\anaconda3\\lib\\site-packages (from nbclient<0.6.0,>=0.5.0->nbconvert>=4.2->jupyter-contrib-nbextensions->jupyter-require) (1.4.2)\n",
      "Requirement already satisfied: async-generator in c:\\users\\stott\\anaconda3\\lib\\site-packages (from nbclient<0.6.0,>=0.5.0->nbconvert>=4.2->jupyter-contrib-nbextensions->jupyter-require) (1.10)\n",
      "Requirement already satisfied: pywinpty>=0.5 in c:\\users\\stott\\anaconda3\\lib\\site-packages (from terminado>=0.8.3->notebook>=4.0->jupyter-contrib-nbextensions->jupyter-require) (0.5.7)\n",
      "Requirement already satisfied: cffi>=1.0.0 in c:\\users\\stott\\anaconda3\\lib\\site-packages (from argon2-cffi->notebook>=4.0->jupyter-contrib-nbextensions->jupyter-require) (1.14.3)\n",
      "Requirement already satisfied: pyrsistent>=0.14.0 in c:\\users\\stott\\anaconda3\\lib\\site-packages (from jsonschema!=2.5.0,>=2.4->nbformat>=4.4->nbconvert>=4.2->jupyter-contrib-nbextensions->jupyter-require) (0.17.3)\n",
      "Requirement already satisfied: attrs>=17.4.0 in c:\\users\\stott\\anaconda3\\lib\\site-packages (from jsonschema!=2.5.0,>=2.4->nbformat>=4.4->nbconvert>=4.2->jupyter-contrib-nbextensions->jupyter-require) (20.3.0)\n",
      "Requirement already satisfied: pyparsing>=2.0.2 in c:\\users\\stott\\anaconda3\\lib\\site-packages (from packaging->bleach->nbconvert>=4.2->jupyter-contrib-nbextensions->jupyter-require) (2.4.7)\n",
      "Requirement already satisfied: pycparser in c:\\users\\stott\\anaconda3\\lib\\site-packages (from cffi>=1.0.0->argon2-cffi->notebook>=4.0->jupyter-contrib-nbextensions->jupyter-require) (2.20)\n"
     ]
    }
   ],
   "source": [
    "!pip install jupyter-require --user"
   ]
  },
  {
   "cell_type": "code",
   "execution_count": 4,
   "metadata": {},
   "outputs": [
    {
     "name": "stdout",
     "output_type": "stream",
     "text": [
      "Requirement already satisfied: dendropy in c:\\users\\stott\\appdata\\roaming\\python\\python38\\site-packages (4.5.2)\n",
      "Requirement already satisfied: setuptools in c:\\users\\stott\\anaconda3\\lib\\site-packages (from dendropy) (50.3.1.post20201107)\n"
     ]
    }
   ],
   "source": [
    "!pip install dendropy"
   ]
  },
  {
   "cell_type": "code",
   "execution_count": 1,
   "metadata": {},
   "outputs": [],
   "source": [
    "import pandas as pd\n",
    "import dendropy\n",
    "import numpy as np"
   ]
  },
  {
   "cell_type": "code",
   "execution_count": 2,
   "metadata": {},
   "outputs": [],
   "source": [
    "import Bio\n",
    "import phylopandas as ph\n",
    "import phylovega\n",
    "import IPython\n",
    "import os"
   ]
  },
  {
   "cell_type": "code",
   "execution_count": 3,
   "metadata": {},
   "outputs": [
    {
     "name": "stdout",
     "output_type": "stream",
     "text": [
      "nextstrain_community_leke-lyu_ncov_texas-all_timetree.tre\n",
      "   type               id parent    length            label  distance  \\\n",
      "0  root                0   None  0.000000                0  0.000000   \n",
      "1  node                1      0  0.000000                1  0.000000   \n",
      "2  leaf  Wuhan/Hu-1/2019      1  0.032305  Wuhan/Hu-1/2019  0.032305   \n",
      "3  node                2      1  0.012535                2  0.012535   \n",
      "4  leaf  Wuhan/WH01/2019      2  0.019770  Wuhan/WH01/2019  0.032305   \n",
      "\n",
      "          uid                                            long_id  \\\n",
      "0  AKIQv3TUPI  Algeria/49926/2021|Australia/NSW-SAVID-4809/20...   \n",
      "1  1MEqegkIp1  Algeria/49926/2021|Australia/NSW-SAVID-4809/20...   \n",
      "2  xEiudVM9cn                                    Wuhan/Hu-1/2019   \n",
      "3  AHBHytgOAb  Algeria/49926/2021|Australia/NSW-SAVID-4809/20...   \n",
      "4  trMoFzbCuS                                    Wuhan/WH01/2019   \n",
      "\n",
      "                                      parent_long_id  \\\n",
      "0                                                NaN   \n",
      "1  Algeria/49926/2021|Australia/NSW-SAVID-4809/20...   \n",
      "2  Algeria/49926/2021|Australia/NSW-SAVID-4809/20...   \n",
      "3  Algeria/49926/2021|Australia/NSW-SAVID-4809/20...   \n",
      "4  Algeria/49926/2021|Australia/NSW-SAVID-4809/20...   \n",
      "\n",
      "                                              source  \n",
      "0  nextstrain_community_leke-lyu_ncov_texas-all_t...  \n",
      "1  nextstrain_community_leke-lyu_ncov_texas-all_t...  \n",
      "2  nextstrain_community_leke-lyu_ncov_texas-all_t...  \n",
      "3  nextstrain_community_leke-lyu_ncov_texas-all_t...  \n",
      "4  nextstrain_community_leke-lyu_ncov_texas-all_t...  \n",
      "-------------------------\n"
     ]
    },
    {
     "data": {
      "text/html": [
       "<div>\n",
       "<style scoped>\n",
       "    .dataframe tbody tr th:only-of-type {\n",
       "        vertical-align: middle;\n",
       "    }\n",
       "\n",
       "    .dataframe tbody tr th {\n",
       "        vertical-align: top;\n",
       "    }\n",
       "\n",
       "    .dataframe thead th {\n",
       "        text-align: right;\n",
       "    }\n",
       "</style>\n",
       "<table border=\"1\" class=\"dataframe\">\n",
       "  <thead>\n",
       "    <tr style=\"text-align: right;\">\n",
       "      <th></th>\n",
       "      <th>type</th>\n",
       "      <th>id</th>\n",
       "      <th>parent</th>\n",
       "      <th>length</th>\n",
       "      <th>label</th>\n",
       "      <th>distance</th>\n",
       "      <th>uid</th>\n",
       "      <th>long_id</th>\n",
       "      <th>parent_long_id</th>\n",
       "      <th>source</th>\n",
       "    </tr>\n",
       "  </thead>\n",
       "  <tbody>\n",
       "    <tr>\n",
       "      <th>0</th>\n",
       "      <td>root</td>\n",
       "      <td>0</td>\n",
       "      <td>None</td>\n",
       "      <td>0.000000</td>\n",
       "      <td>0</td>\n",
       "      <td>0.000000</td>\n",
       "      <td>AKIQv3TUPI</td>\n",
       "      <td>Algeria/49926/2021|Australia/NSW-SAVID-4809/20...</td>\n",
       "      <td>NaN</td>\n",
       "      <td>nextstrain_community_leke-lyu_ncov_texas-all_t...</td>\n",
       "    </tr>\n",
       "    <tr>\n",
       "      <th>1</th>\n",
       "      <td>node</td>\n",
       "      <td>1</td>\n",
       "      <td>0</td>\n",
       "      <td>0.000000</td>\n",
       "      <td>1</td>\n",
       "      <td>0.000000</td>\n",
       "      <td>1MEqegkIp1</td>\n",
       "      <td>Algeria/49926/2021|Australia/NSW-SAVID-4809/20...</td>\n",
       "      <td>Algeria/49926/2021|Australia/NSW-SAVID-4809/20...</td>\n",
       "      <td>nextstrain_community_leke-lyu_ncov_texas-all_t...</td>\n",
       "    </tr>\n",
       "    <tr>\n",
       "      <th>2</th>\n",
       "      <td>leaf</td>\n",
       "      <td>Wuhan/Hu-1/2019</td>\n",
       "      <td>1</td>\n",
       "      <td>0.032305</td>\n",
       "      <td>Wuhan/Hu-1/2019</td>\n",
       "      <td>0.032305</td>\n",
       "      <td>xEiudVM9cn</td>\n",
       "      <td>Wuhan/Hu-1/2019</td>\n",
       "      <td>Algeria/49926/2021|Australia/NSW-SAVID-4809/20...</td>\n",
       "      <td>nextstrain_community_leke-lyu_ncov_texas-all_t...</td>\n",
       "    </tr>\n",
       "    <tr>\n",
       "      <th>3</th>\n",
       "      <td>node</td>\n",
       "      <td>2</td>\n",
       "      <td>1</td>\n",
       "      <td>0.012535</td>\n",
       "      <td>2</td>\n",
       "      <td>0.012535</td>\n",
       "      <td>AHBHytgOAb</td>\n",
       "      <td>Algeria/49926/2021|Australia/NSW-SAVID-4809/20...</td>\n",
       "      <td>Algeria/49926/2021|Australia/NSW-SAVID-4809/20...</td>\n",
       "      <td>nextstrain_community_leke-lyu_ncov_texas-all_t...</td>\n",
       "    </tr>\n",
       "    <tr>\n",
       "      <th>4</th>\n",
       "      <td>leaf</td>\n",
       "      <td>Wuhan/WH01/2019</td>\n",
       "      <td>2</td>\n",
       "      <td>0.019770</td>\n",
       "      <td>Wuhan/WH01/2019</td>\n",
       "      <td>0.032305</td>\n",
       "      <td>trMoFzbCuS</td>\n",
       "      <td>Wuhan/WH01/2019</td>\n",
       "      <td>Algeria/49926/2021|Australia/NSW-SAVID-4809/20...</td>\n",
       "      <td>nextstrain_community_leke-lyu_ncov_texas-all_t...</td>\n",
       "    </tr>\n",
       "  </tbody>\n",
       "</table>\n",
       "</div>"
      ],
      "text/plain": [
       "   type               id parent    length            label  distance  \\\n",
       "0  root                0   None  0.000000                0  0.000000   \n",
       "1  node                1      0  0.000000                1  0.000000   \n",
       "2  leaf  Wuhan/Hu-1/2019      1  0.032305  Wuhan/Hu-1/2019  0.032305   \n",
       "3  node                2      1  0.012535                2  0.012535   \n",
       "4  leaf  Wuhan/WH01/2019      2  0.019770  Wuhan/WH01/2019  0.032305   \n",
       "\n",
       "          uid                                            long_id  \\\n",
       "0  AKIQv3TUPI  Algeria/49926/2021|Australia/NSW-SAVID-4809/20...   \n",
       "1  1MEqegkIp1  Algeria/49926/2021|Australia/NSW-SAVID-4809/20...   \n",
       "2  xEiudVM9cn                                    Wuhan/Hu-1/2019   \n",
       "3  AHBHytgOAb  Algeria/49926/2021|Australia/NSW-SAVID-4809/20...   \n",
       "4  trMoFzbCuS                                    Wuhan/WH01/2019   \n",
       "\n",
       "                                      parent_long_id  \\\n",
       "0                                                NaN   \n",
       "1  Algeria/49926/2021|Australia/NSW-SAVID-4809/20...   \n",
       "2  Algeria/49926/2021|Australia/NSW-SAVID-4809/20...   \n",
       "3  Algeria/49926/2021|Australia/NSW-SAVID-4809/20...   \n",
       "4  Algeria/49926/2021|Australia/NSW-SAVID-4809/20...   \n",
       "\n",
       "                                              source  \n",
       "0  nextstrain_community_leke-lyu_ncov_texas-all_t...  \n",
       "1  nextstrain_community_leke-lyu_ncov_texas-all_t...  \n",
       "2  nextstrain_community_leke-lyu_ncov_texas-all_t...  \n",
       "3  nextstrain_community_leke-lyu_ncov_texas-all_t...  \n",
       "4  nextstrain_community_leke-lyu_ncov_texas-all_t...  "
      ]
     },
     "execution_count": 3,
     "metadata": {},
     "output_type": "execute_result"
    }
   ],
   "source": [
    "path = \"../../Data/\"\n",
    "combined_df = pd.DataFrame()\n",
    "for file in os.listdir(path):\n",
    "    if '.tre' in file:\n",
    "        tr1 = ph.read_newick(path+file)\n",
    "    else:\n",
    "        continue\n",
    "    print(file)\n",
    "    tr1.loc[tr1.type == 'leaf', 'long_id'] = tr1.loc[tr1.type == 'leaf', 'id']\n",
    "    for parent1 in reversed(range(0, tr1[1:].parent.apply(int).max()+1)):\n",
    "        parent = str(parent1)\n",
    "        if parent:\n",
    "            parentid = \"|\".join(tr1[tr1.parent == parent].long_id.sort_values())\n",
    "            tr1.loc[tr1.parent == parent, 'parent_long_id'] = parentid\n",
    "            tr1.loc[tr1.id == parent, 'long_id'] = parentid\n",
    "    tr1.loc[tr1.type == 'leaf', 'id'] = tr1.loc[tr1.type == 'leaf', 'id']\n",
    "    tr1['source'] = file\n",
    "    print(tr1.head())\n",
    "    if len(combined_df) > 1:\n",
    "        combined_df = pd.concat([combined_df, tr1])\n",
    "    else:\n",
    "        combined_df = tr1\n",
    "    print(\"-------------------------\")\n",
    "combined_df.head()"
   ]
  },
  {
   "cell_type": "code",
   "execution_count": 4,
   "metadata": {},
   "outputs": [
    {
     "data": {
      "text/plain": [
       "<AxesSubplot:>"
      ]
     },
     "execution_count": 4,
     "metadata": {},
     "output_type": "execute_result"
    },
    {
     "data": {
      "image/png": "[encoded data removed]",
      "text/plain": [
       "<Figure size 432x288 with 1 Axes>"
      ]
     },
     "metadata": {
      "needs_background": "light"
     },
     "output_type": "display_data"
    }
   ],
   "source": [
    "combined_df.distance.hist()"
   ]
  },
  {
   "cell_type": "code",
   "execution_count": 5,
   "metadata": {},
   "outputs": [],
   "source": [
    "combined_df.to_csv('neo_ready.csv', index=False)"
   ]
  },
  {
   "cell_type": "code",
   "execution_count": null,
   "metadata": {},
   "outputs": [],
   "source": []
  }
 ],
 "metadata": {
  "kernelspec": {
   "display_name": "Python 3",
   "language": "python",
   "name": "python3"
  },
  "language_info": {
   "codemirror_mode": {
    "name": "ipython",
    "version": 3
   },
   "file_extension": ".py",
   "mimetype": "text/x-python",
   "name": "python",
   "nbconvert_exporter": "python",
   "pygments_lexer": "ipython3",
   "version": "3.8.5"
  }
 },
 "nbformat": 4,
 "nbformat_minor": 4
}
